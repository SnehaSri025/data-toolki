{
  "nbformat": 4,
  "nbformat_minor": 0,
  "metadata": {
    "colab": {
      "provenance": []
    },
    "kernelspec": {
      "name": "python3",
      "display_name": "Python 3"
    },
    "language_info": {
      "name": "python"
    }
  },
  "cells": [
    {
      "cell_type": "markdown",
      "source": [
        "1.What is numpy, and why is it widely used in python?\n",
        "- NumPy is a fundamental library in Python for numerical computing. It provides support for large, multi-dimensional arrays and matrices, along with a collection of mathematical functions to operate on these arrays efficiently.\n",
        "\n",
        "NumPy is widely used for several reasons:\n",
        "\n",
        "Performance: NumPy operations are highly optimized and much faster than standard Python list operations, especially for large datasets. This is because NumPy arrays are stored contiguously in memory, and many operations are implemented in C.\n",
        "Array-oriented programming: NumPy allows you to express computations on entire arrays without writing explicit loops. This leads to more concise and readable code.\n",
        "Foundation for other libraries: Many other popular scientific and data analysis libraries in Python, such as Pandas, SciPy, and scikit-learn, are built on top of NumPy.\n",
        "\n",
        "2.How does broadcasting work in numpty?\n",
        "- Broadcasting in NumPy is a mechanism that allows NumPy to perform operations on arrays of different shapes. [1] When performing arithmetic operations between arrays of different shapes, NumPy attempts to \"broadcast\" the smaller array across the larger array so that they have compatible shapes. [1]\n",
        "\n",
        "Here's how it works:\n",
        "\n",
        "Rule 1: Equal dimensions: If the arrays have different numbers of dimensions, the shape of the smaller array is padded with ones on its left side until the number of dimensions matches the larger array.\n",
        "Rule 2: Compatible dimensions: Two dimensions are compatible if they are equal, or one of them is 1.\n",
        "Rule 3: Incompatible dimensions: If the dimensions are incompatible, an error is raised.\n",
        "\n",
        "3.What is a pandas dataframe?\n",
        "- A pandas DataFrame is a two-dimensional, size-mutable, and potentially heterogeneous tabular data structure with labeled axes (rows and columns). It is similar to a spreadsheet or a SQL table.\n",
        "\n",
        "4.Explain the use of the groupby() method in pandas?\n",
        "- The groupby() method in pandas is used to group data based on some criteria. It's a powerful tool for splitting data into groups, applying a function to each group independently, and then combining the results. [1] This process is often referred to as the \"split-apply-combine\" strategy.\n",
        "\n",
        "5.Why is seaborn preffered for statistical visualizations?\n",
        "- Seaborn is often preferred for statistical visualizations in Python for several key reasons:\n",
        "\n",
        "Built on Matplotlib: Seaborn is a high-level interface built on top of Matplotlib. This means it inherits the power and flexibility of Matplotlib while providing a more convenient and aesthetically pleasing way to create complex statistical plots.\n",
        "Focus on Statistical Graphics: Seaborn is specifically designed to create informative and attractive statistical graphics. It provides functions for visualizing relationships between variables, distributions, categorical data, and more.\n",
        "Works Well with Pandas DataFrames: Seaborn's functions are optimized to work directly with Pandas data structures, making it easy to create visualizations from your dataframes. [2] This seamless integration simplifies the workflow for data analysis and visualization. [1]\n",
        "Enhanced Aesthetics and Styles: Seaborn provides a variety of built-in themes and color palettes that produce visually appealing plots by default. This helps in creating professional-looking visualizations without much effort.\n",
        "\n",
        "6.What are the difference between numpy arrays and python lists?\n",
        "- Data Type Homogeneity:\n",
        "\n",
        "NumPy Arrays: NumPy arrays are designed to hold elements of the same data type (homogeneous). This homogeneity is crucial for their performance and efficient memory usage.\n",
        "Python Lists: Python lists can hold elements of different data types (heterogeneous). You can have integers, strings, objects, and even other lists within a single Python list.\n",
        "Performance:\n",
        "\n",
        "NumPy Arrays: NumPy operations are significantly faster than equivalent operations on Python lists, especially for large datasets. This is because NumPy is optimized for numerical computations and often uses underlying C implementations.\n",
        "Python Lists: Operations on Python lists can be slower for numerical tasks because they involve more overhead due to the heterogeneous nature and dynamic typing.\n",
        "Memory Efficiency:\n",
        "\n",
        "NumPy Arrays: NumPy arrays are more memory efficient than Python lists for storing numerical data. Because all elements are of the same type and stored contiguously in memory, NumPy can store and access them more efficiently.\n",
        "Python Lists: Python lists are less memory efficient because they store references to objects, and the objects themselves can be scattered in memory.\n",
        "Functionality:\n",
        "\n",
        "NumPy Arrays: NumPy provides a vast collection of mathematical functions and operations that can be applied directly to entire arrays (element-wise operations, broadcasting, linear algebra, etc.).\n",
        "Python Lists: Python lists have methods for basic list manipulations (appending, inserting, removing, etc.), but they lack the extensive mathematical functionality of NumPy arrays. Performing mathematical operations on a list usually requires iterating through its elements.\n",
        "Size and Shape:\n",
        "\n",
        "NumPy Arrays: NumPy arrays have a fixed size and shape once created. Although you can create new arrays with different sizes or shapes, you can't directly change the size of an existing array without creating a new one.\n",
        "Python Lists: Python lists are dynamic and can grow or shrink in size as needed.\n",
        "Usage:\n",
        "\n",
        "NumPy Arrays: Primarily used for numerical computations, scientific computing, data analysis, and machine learning tasks where performance and efficiency are critical.\n",
        "Python Lists: More general-purpose and used for storing collections of items, where the items can be of different types and the ability to easily modify the list's size is important.\n",
        "\n",
        "7.What is a heatmap, and when should it be used?\n",
        "- A heatmap is a graphical representation of data where values are depicted as colors. It's a way to visualize the magnitude of a phenomenon as color in two dimensions. [1] In a heatmap, the color intensity often corresponds to the magnitude of the data, with different colors representing different values.\n",
        "use a heatmap when you want to:\n",
        "\n",
        "Visualize the relationships between two variables.\n",
        "Identify patterns and clusters in your data.\n",
        "Present data in a concise and visually appealing way, especially for large datasets that might be difficult to interpret in a table.\n",
        "\n",
        "8.What does the term \"vectorized operation \"mean in numpty?\n",
        "- In NumPy, a \"vectorized operation\" refers to applying mathematical or logical operations to entire arrays rather than element by element using explicit loops. [1] NumPy is designed to perform these operations very efficiently, often by leveraging optimized, pre-compiled code (written in languages like C) behind the scenes.\n",
        "\n",
        "9.How does matplotlib differ from plotly?\n",
        "In many data science workflows, you might use both libraries depending on the specific visualization needs. Seaborn, mentioned earlier, is often used on top of Matplotlib to simplify statistical plotting while still producing static plots.\n",
        "\n",
        "10.What is the significance of hierarchical indexing in pandas?\n",
        "- Hierarchical indexing, also known as MultiIndex, in pandas is a way to have multiple levels of indexes on either the rows or columns of a Series or DataFrame. [1] It provides a structured way to work with data that has multiple dimensions or groupings, without needing to reshape the data into higher dimensions.\n",
        "\n",
        "11.What is the role of seaborn's pairplot() function?\n",
        "- The role of seaborn's pairplot() function is to create a grid of pairwise relationships between variables in a dataset. [1] It's a powerful tool for exploring the relationships between multiple variables simultaneously and understanding the distribution of individual variables\n",
        "\n",
        "12.What is the purpose of the describe() function in pandas?\n",
        "- The purpose of the describe() function in pandas is to generate descriptive statistics that summarize the central tendency, dispersion, and shape of a dataset's distribution. [1] It provides a quick overview of the main characteristics of the data.\n",
        "\n",
        "13.Why is handling missing data important in pandas?\n",
        "- Handling missing data is crucial in pandas for several important reasons:\n",
        "\n",
        "Impact on Analysis and Modeling: Many statistical and machine learning methods are not designed to handle missing data. If you have missing values in your dataset and use it directly in these methods, you can encounter errors or produce incorrect and misleading results. For example:\n",
        "\n",
        "Calculating the mean or standard deviation of a column with missing values might yield an incorrect result if the missing values are simply ignored or treated as zeros.\n",
        "Machine learning algorithms might fail to train or produce biased models if they are fed data with missing values.\n",
        "Data Integrity and Quality: Missing data can indicate issues with data collection, data entry, or data storage. Ignoring missing values can lead to a loss of data integrity and a reduced understanding of the true underlying data distribution. Addressing missing data helps improve the overall quality of your dataset.\n",
        "\n",
        "Bias: The way data is missing can introduce bias into your analysis. If missingness is not random (i.e., it's related to the values of other variables), simply removing rows or columns with missing data can distort the relationships between variables and lead to biased conclusions.\n",
        "\n",
        "Reduced Statistical Power: Missing data reduces the amount of information available for analysis. This can lead to a loss of statistical power, making it harder to detect significant relationships or differences in your data.\n",
        "\n",
        "14.What are the benefits of using plotly for data visualization?\n",
        "- Using Plotly for data visualization offers several significant benefits, especially in the context of modern data analysis and web-based applications:\n",
        "\n",
        "Interactivity: Plotly's core strength is its interactivity. Plots created with Plotly are inherently interactive, allowing users to:\n",
        "\n",
        "Hover over data points to see tooltips with information.\n",
        "Zoom and pan on the plot.\n",
        "Select or deselect data traces in the legend.\n",
        "Use range sliders to filter data on the axes.\n",
        "Execute custom actions on hover, click, or selection.\n",
        "This interactivity makes it much easier to explore data, identify specific data points, and gain deeper insights directly from the visualization.\n",
        "\n",
        "Web-Based and Embeddable: Plotly is designed for the web. Plots are generated as JSON objects that can be rendered using JavaScript in a web browser. This makes it easy to:\n",
        "\n",
        "Embed plots in websites, blogs, and dashboards.\n",
        "Integrate plots into web applications using frameworks like Dash (built by Plotly).\n",
        "Share interactive visualizations with others without requiring them to have specific software installed.\n",
        "Wide Range of Plot Types: Plotly supports a vast array of plot types, including:\n",
        "\n",
        "Basic charts (scatter, line, bar, histogram, box plot, etc.).\n",
        "Statistical plots (violin plots, regression plots).\n",
        "3D plots (scatter 3D, surface plots).\n",
        "Maps (choropleth maps, scatter maps).\n",
        "Scientific charts (contour plots, streamplots).\n",
        "Financial charts (candlestick charts).\n",
        "Specialized plots (parallel coordinates, Sankey diagrams).\n",
        "This extensive collection allows you to choose the most appropriate visualization for your data and analysis needs.\n",
        "\n",
        "15.How does numpy handle multidimensional arrays?\n",
        "- The ndarray Object: The fundamental building block for multidimensional arrays in NumPy is the ndarray object. This object is a homogeneous, multi-dimensional array of fixed-size items. \"Homogeneous\" means all elements in the array must be of the same data type (e.g., integers, floats, strings).\n",
        "\n",
        "Shape: The shape attribute of an ndarray is a tuple of integers that indicates the size of the array in each dimension. For example:\n",
        "\n",
        "A 1D array (vector) might have a shape of (n,).\n",
        "A 2D array (matrix) might have a shape of (rows, columns).\n",
        "A 3D array (tensor) might have a shape of (depth, rows, columns).\n",
        "Dimensions (Axes): The number of dimensions is referred to as the rank of the array, or the number of axes. Each dimension is also called an axis. The axes are indexed starting from 0. For a 2D array, the first axis (axis 0) represents the rows, and the second axis (axis 1) represents the columns. [2]\n",
        "\n",
        "16.What is the role of bokeh in data visualization?\n",
        "- Bokeh's role is to provide a library that empowers data scientists and developers to create rich, interactive, and web-based data visualizations and applications with Python. It is particularly useful when you need to build dashboards or web interfaces that allow users to explore data and interact with visualizations dynamically\n",
        "\n",
        "17.Explain the difference between apply() ans map() in pandas?\n",
        "- Key Differences Summarized:\n",
        "\n",
        "Feature\tmap()\tapply()\n",
        "Applicable to\tSeries only\tSeries and DataFrame\n",
        "Input to func\tEach individual element\tEntire Series (for Series) or row/column (for DataFrame)\n",
        "Operation Level\tElement-wise\tElement-wise, Series-wise, or row/column-wise\n",
        "Primary Use\tElement transformations/substitutions\tMore versatile; row/column operations, complex transformations\n",
        "In essence, map() is a specialized tool for simple element-wise mapping on a Series, while apply() is a more general-purpose tool that can perform more complex operations on Series, rows, or columns of a DataFrame.\n",
        "\n",
        "18.What are some advanced features of numpy?\n",
        "- NumPy has a wide range of advanced features that go beyond basic array creation and manipulation. Here are some of them:\n",
        "\n",
        "ufuncs (Universal Functions):\n",
        "Linear Algebra Operations:\n",
        "Fancy Indexing and Boolean Indexing:\n",
        "Fancy Indexing:\n",
        "Boolean Indexing:\n",
        "Structured Arrays:\n",
        "Memory Management and Views/Copies:\n",
        "Memory Mapping (np.memmap):\n",
        "Integration with Other Libraries:\n",
        "Serialization and Deserialization:\n",
        "Performance Optimization:\n",
        "\n",
        "19.How does pandas simplify time series analysis?\n",
        "- pandas simplifies time series analysis by providing specialized data structures (DatetimeIndex), powerful tools for manipulating and analyzing time-indexed data (resampling, time-based indexing), and a wide range of functions for common time series operations. This makes it a go-to library for working with time series data in Python.\n",
        "\n",
        "20.What is the role of a pivot table in pandas?\n",
        "- Based on the search results, the role of a pivot table in pandas is to create spreadsheet-style pivot tables from a DataFrame. [2] It's a powerful tool for summarizing and reshaping data in a clear and organized way, often involving aggregation.\n",
        "\n",
        "21.Why is numpy's array slicing faster than python's list slicing?\n",
        "- NumPy's array slicing is faster than Python's list slicing because of NumPy's contiguous memory layout, optimized C implementation, the ability to return views instead of copies, and the homogeneity of data types in NumPy arrays. These factors combine to make NumPy's array slicing operations much more efficient for numerical data.\n",
        "\n",
        "22.What are some common use cases for seaborn?\n",
        "- Seaborn is widely used for creating informative and attractive statistical graphics in Python. Here are some common use cases for Seaborn:\n",
        "\n",
        "Visualizing Distributions:\n",
        "Exploring Relationships Between Variables:\n",
        "Visualizing Categorical Data:\n",
        "Visualizing Relationships with Multiple Variables:\n",
        "Creating Complex Statistical Plots:\n",
        "Improving Matplotlib Aesthetics:\n",
        "\n",
        "\n",
        "\n",
        "\n",
        "-\n",
        "\n",
        "\n",
        "\n",
        "-\n",
        "-\n",
        "\n",
        "\n"
      ],
      "metadata": {
        "id": "zzGM4lFg-Qtd"
      }
    },
    {
      "cell_type": "code",
      "source": [
        "# How do you create a 2D numpy array and calculate the sum of each row?\n",
        "import numpy as np\n",
        "\n",
        "# Create a 2D NumPy array\n",
        "# This array has 3 rows and 4 columns\n",
        "two_d_array = np.array([[1, 2, 3, 4],\n",
        "                        [5, 6, 7, 8],\n",
        "                        [9, 10, 11, 12]])\n",
        "\n",
        "print(\"Original 2D Array:\")\n",
        "print(two_d_array)\n",
        "\n",
        "# Calculate the sum of each row\n",
        "# axis=1 specifies that the sum should be calculated along the columns (for each row)\n",
        "row_sums = two_d_array.sum(axis=1)\n",
        "\n",
        "print(\"\\nSum of each row:\")\n",
        "print(row_sums)\n"
      ],
      "metadata": {
        "colab": {
          "base_uri": "https://localhost:8080/"
        },
        "id": "wO3Y5exdqqRm",
        "outputId": "d4e40ed9-d031-4c76-b649-de36d2ae3b2f"
      },
      "execution_count": 2,
      "outputs": [
        {
          "output_type": "stream",
          "name": "stdout",
          "text": [
            "Original 2D Array:\n",
            "[[ 1  2  3  4]\n",
            " [ 5  6  7  8]\n",
            " [ 9 10 11 12]]\n",
            "\n",
            "Sum of each row:\n",
            "[10 26 42]\n"
          ]
        }
      ]
    },
    {
      "cell_type": "code",
      "source": [
        "# Write a pandas script to find the mean of a specific column in a dataframe.\n",
        "import pandas as pd\n",
        "\n",
        "# Create a sample DataFrame\n",
        "data = {'Column_A': [10, 20, 30, 40, 50],\n",
        "        'Column_B': [1.1, 2.2, 3.3, 4.4, 5.5],\n",
        "        'Column_C': ['X', 'Y', 'Z', 'X', 'Y']}\n",
        "df = pd.DataFrame(data)\n",
        "\n",
        "print(\"Original DataFrame:\")\n",
        "print(df)\n",
        "\n",
        "# Specify the column name you want to find the mean of\n",
        "column_to_analyze = 'Column_A'\n",
        "\n",
        "# Check if the column exists in the DataFrame\n",
        "if column_to_analyze in df.columns:\n",
        "    # Check if the column is numeric (mean is applicable to numeric data)\n",
        "    if pd.api.types.is_numeric_dtype(df[column_to_analyze]):\n",
        "        # Calculate the mean of the specific column\n",
        "        mean_value = df[column_to_analyze].mean()\n",
        "\n",
        "        print(f\"\\nMean of column '{column_to_analyze}': {mean_value}\")\n",
        "    else:\n",
        "        print(f\"\\nColumn '{column_to_analyze}' is not numeric. Cannot calculate the mean.\")\n",
        "else:\n",
        "    print(f\"\\nColumn '{column_to_analyze}' not found in the DataFrame.\")"
      ],
      "metadata": {
        "colab": {
          "base_uri": "https://localhost:8080/"
        },
        "id": "bp_bk1-jrs-z",
        "outputId": "06f44ddf-4789-4661-b531-b8ba362a3f6a"
      },
      "execution_count": 3,
      "outputs": [
        {
          "output_type": "stream",
          "name": "stdout",
          "text": [
            "Original DataFrame:\n",
            "   Column_A  Column_B Column_C\n",
            "0        10       1.1        X\n",
            "1        20       2.2        Y\n",
            "2        30       3.3        Z\n",
            "3        40       4.4        X\n",
            "4        50       5.5        Y\n",
            "\n",
            "Mean of column 'Column_A': 30.0\n"
          ]
        }
      ]
    },
    {
      "cell_type": "code",
      "source": [
        "# Create a scatter plot using matplotlib.\n",
        "\n",
        "import matplotlib.pyplot as plt\n",
        "import numpy as np # Often used for generating data\n",
        "\n",
        "# Create sample data\n",
        "# Using NumPy for easy creation of numerical data\n",
        "x_data = np.array([1, 2, 3, 4, 5, 6, 7, 8, 9, 10])\n",
        "y_data = np.array([12, 16, 15, 18, 20, 25, 22, 28, 30, 35])\n",
        "\n",
        "# Create the scatter plot\n",
        "plt.scatter(x_data, y_data)\n",
        "\n",
        "# Add labels and a title\n",
        "plt.xlabel(\"X-axis Label\")\n",
        "plt.ylabel(\"Y-axis Label\")\n",
        "plt.title(\"Simple Scatter Plot\")\n",
        "\n",
        "# Display the plot\n",
        "plt.show()"
      ],
      "metadata": {
        "colab": {
          "base_uri": "https://localhost:8080/",
          "height": 472
        },
        "id": "i5DL-B0xsYIJ",
        "outputId": "caa82bba-81a7-4a7d-e08e-0d9a347b8001"
      },
      "execution_count": 4,
      "outputs": [
        {
          "output_type": "display_data",
          "data": {
            "text/plain": [
              "<Figure size 640x480 with 1 Axes>"
            ],
            "image/png": "[encoded data removed]"
          },
          "metadata": {}
        }
      ]
    },
    {
      "cell_type": "code",
      "source": [
        "# How do you calculate the correlation matrix using seaborn and visualize it with a heatmap?\n",
        "import pandas as pd\n",
        "import seaborn as sns\n",
        "import matplotlib.pyplot as plt\n",
        "import numpy as np\n",
        "\n",
        "# Create a sample DataFrame with numerical data\n",
        "data = {'A': [1, 2, 3, 4, 5],\n",
        "        'B': [5, 4, 3, 2, 1],\n",
        "        'C': [10, 20, 30, 40, 50],\n",
        "        'D': [1, 1, 2, 2, 3]}\n",
        "df = pd.DataFrame(data)\n",
        "\n",
        "print(\"Original DataFrame:\")\n",
        "print(df)\n",
        "\n",
        "# Calculate the correlation matrix\n",
        "correlation_matrix = df.corr()\n",
        "\n",
        "print(\"\\nCorrelation Matrix:\")\n",
        "print(correlation_matrix)\n",
        "\n",
        "# Visualize the correlation matrix using a heatmap\n",
        "plt.figure(figsize=(8, 6)) # Adjust figure size as needed\n",
        "sns.heatmap(correlation_matrix, annot=True, cmap='coolwarm', fmt=\".2f\")\n",
        "plt.title('Correlation Matrix Heatmap')\n",
        "plt.show()"
      ],
      "metadata": {
        "colab": {
          "base_uri": "https://localhost:8080/",
          "height": 788
        },
        "id": "b8C7HDM-swhK",
        "outputId": "d6f91810-b238-42fa-cebe-d60d6a52e9f9"
      },
      "execution_count": 5,
      "outputs": [
        {
          "output_type": "stream",
          "name": "stdout",
          "text": [
            "Original DataFrame:\n",
            "   A  B   C  D\n",
            "0  1  5  10  1\n",
            "1  2  4  20  1\n",
            "2  3  3  30  2\n",
            "3  4  2  40  2\n",
            "4  5  1  50  3\n",
            "\n",
            "Correlation Matrix:\n",
            "          A         B         C         D\n",
            "A  1.000000 -1.000000  1.000000  0.944911\n",
            "B -1.000000  1.000000 -1.000000 -0.944911\n",
            "C  1.000000 -1.000000  1.000000  0.944911\n",
            "D  0.944911 -0.944911  0.944911  1.000000\n"
          ]
        },
        {
          "output_type": "display_data",
          "data": {
            "text/plain": [
              "<Figure size 800x600 with 2 Axes>"
            ],
            "image/png": "[encoded data removed]"
          },
          "metadata": {}
        }
      ]
    },
    {
      "cell_type": "code",
      "source": [
        "# Generate a bar plot using plotly.\n",
        "import plotly.express as px\n",
        "import pandas as pd\n",
        "\n",
        "# Create a sample DataFrame for the bar plot\n",
        "data = {'Category': ['A', 'B', 'C', 'D', 'E'],\n",
        "        'Value': [23, 45, 56, 12, 38]}\n",
        "df = pd.DataFrame(data)\n",
        "\n",
        "print(\"Original DataFrame:\")\n",
        "print(df)\n",
        "\n",
        "# Create a bar plot using Plotly Express\n",
        "# 'Category' will be on the x-axis, and 'Value' will be on the y-axis\n",
        "fig = px.bar(df, x='Category', y='Value', title='Simple Bar Plot with Plotly')\n",
        "\n",
        "# Display the plot"
      ],
      "metadata": {
        "colab": {
          "base_uri": "https://localhost:8080/"
        },
        "id": "kFBWH7gZtpKi",
        "outputId": "832e168b-d581-49dd-f53d-560adc4805dc"
      },
      "execution_count": 6,
      "outputs": [
        {
          "output_type": "stream",
          "name": "stdout",
          "text": [
            "Original DataFrame:\n",
            "  Category  Value\n",
            "0        A     23\n",
            "1        B     45\n",
            "2        C     56\n",
            "3        D     12\n",
            "4        E     38\n"
          ]
        }
      ]
    },
    {
      "cell_type": "code",
      "source": [
        "# Create a dataframe and add a new column based on an existing column.\n",
        "import pandas as pd\n",
        "\n",
        "# 1. Create a sample DataFrame\n",
        "data = {'Existing_Column': [10, 20, 30, 40, 50],\n",
        "        'Another_Column': ['A', 'B', 'C', 'D', 'E']}\n",
        "df = pd.DataFrame(data)\n",
        "\n",
        "print(\"Original DataFrame:\")\n",
        "print(df)\n",
        "\n",
        "# 2. Add a new column based on an existing column\n",
        "\n",
        "# Example 1: Double the values in 'Existing_Column'\n",
        "df['New_Column_Doubled'] = df['Existing_Column'] * 2\n",
        "\n",
        "# Example 2: Create a categorical column based on a condition\n",
        "df['New_Column_Category'] = ['High' if x > 30 else 'Low' for x in df['Existing_Column']]\n",
        "\n",
        "# Example 3: Apply a more complex function to an existing column\n",
        "def add_five(value):\n",
        "  return value + 5\n",
        "\n",
        "df['New_Column_Add_Five'] = df['Existing_Column'].apply(add_five)\n",
        "\n",
        "\n",
        "print(\"\\nDataFrame with New Columns:\")\n",
        "print(df)"
      ],
      "metadata": {
        "colab": {
          "base_uri": "https://localhost:8080/"
        },
        "id": "s9zTmjstumLb",
        "outputId": "f32645d7-9f6d-4eae-f596-3abf1a70f97c"
      },
      "execution_count": 7,
      "outputs": [
        {
          "output_type": "stream",
          "name": "stdout",
          "text": [
            "Original DataFrame:\n",
            "   Existing_Column Another_Column\n",
            "0               10              A\n",
            "1               20              B\n",
            "2               30              C\n",
            "3               40              D\n",
            "4               50              E\n",
            "\n",
            "DataFrame with New Columns:\n",
            "   Existing_Column Another_Column  New_Column_Doubled New_Column_Category  \\\n",
            "0               10              A                  20                 Low   \n",
            "1               20              B                  40                 Low   \n",
            "2               30              C                  60                 Low   \n",
            "3               40              D                  80                High   \n",
            "4               50              E                 100                High   \n",
            "\n",
            "   New_Column_Add_Five  \n",
            "0                   15  \n",
            "1                   25  \n",
            "2                   35  \n",
            "3                   45  \n",
            "4                   55  \n"
          ]
        }
      ]
    },
    {
      "cell_type": "code",
      "source": [
        "# Write a program to perform element-wise multiplication of two numpy arrays.\n",
        "\n",
        "import numpy as np\n",
        "\n",
        "# Create two NumPy arrays\n",
        "array1 = np.array([1, 2, 3, 4])\n",
        "array2 = np.array([5, 6, 7, 8])\n",
        "\n",
        "print(\"Array 1:\", array1)\n",
        "print(\"Array 2:\", array2)\n",
        "\n",
        "# Perform element-wise multiplication\n",
        "# This multiplies each element of array1 by the corresponding element of array2\n",
        "result_array = array1 * array2\n",
        "\n",
        "print(\"\\nResult of element-wise multiplication:\")\n",
        "print(result_array)"
      ],
      "metadata": {
        "colab": {
          "base_uri": "https://localhost:8080/"
        },
        "id": "_lzrAGFPvUsF",
        "outputId": "a389ce42-eb2c-450b-8beb-4ecb82c3104f"
      },
      "execution_count": 8,
      "outputs": [
        {
          "output_type": "stream",
          "name": "stdout",
          "text": [
            "Array 1: [1 2 3 4]\n",
            "Array 2: [5 6 7 8]\n",
            "\n",
            "Result of element-wise multiplication:\n",
            "[ 5 12 21 32]\n"
          ]
        }
      ]
    },
    {
      "cell_type": "code",
      "source": [
        "# Create a line plot with multiple lines using matplotlib.\n",
        "\n",
        "import matplotlib.pyplot as plt\n",
        "import numpy as np # Often used for generating data\n",
        "\n",
        "# Create sample data for multiple lines\n",
        "x_data = np.array([1, 2, 3, 4, 5, 6, 7, 8, 9, 10])\n",
        "\n",
        "# Data for the first line\n",
        "y_data_1 = np.array([12, 15, 14, 17, 16, 19, 18, 21, 20, 23])\n",
        "\n",
        "# Data for the second line\n",
        "y_data_2 = np.array([8, 10, 9, 11, 10, 13, 12, 15, 14, 17])\n",
        "\n",
        "# Data for the third line\n",
        "y_data_3 = np.array([20, 18, 19, 16, 17, 15, 16, 13, 14, 11])\n",
        "\n",
        "\n",
        "# Create the line plots for each set of data\n",
        "plt.plot(x_data, y_data_1, label='Line 1', marker='o', linestyle='-')\n",
        "plt.plot(x_data, y_data_2, label='Line 2', marker='s', linestyle='--')\n",
        "plt.plot(x_data, y_data_3, label='Line 3', marker='^', linestyle=':')\n",
        "\n",
        "# Add labels and a title\n",
        "plt.xlabel(\"X-axis Label\")\n",
        "plt.ylabel(\"Y-axis Label\")\n",
        "plt.title(\"Line Plot with Multiple Lines\")\n",
        "\n",
        "# Add a legend to identify each line\n",
        "plt.legend()\n",
        "\n",
        "# Add a grid for better readability (optional)\n",
        "plt.grid(True)\n",
        "\n",
        "# Display the plot\n",
        "plt.show()\n",
        "# Create sample data for multiple lines\n",
        "x_data = np.array([1, 2, 3, 4, 5, 6, 7, 8, 9, 10])\n",
        "\n",
        "# Data for the first line\n",
        "y_data_1 = np.array([12, 15, 14, 17, 16, 19, 18, 21, 20, 23])\n",
        "\n",
        "# Data for the second line\n",
        "y_data_2 = np.array([8, 10, 9, 11, 10, 13, 12, 15, 14, 17])\n",
        "\n",
        "# Data for the third line\n",
        "y_data_3 = np.array([20, 18, 19, 16, 17, 15, 16, 13, 14, 11])\n",
        "\n",
        "\n",
        "# Create the line plots for each set of data\n",
        "plt.plot(x_data, y_data_1, label='Line 1', marker='o', linestyle='-')\n",
        "plt.plot(x_data, y_data_2, label='Line 2', marker='s', linestyle='--')\n",
        "plt.plot(x_data, y_data_3, label='Line 3', marker='^', linestyle=':')\n",
        "\n",
        "# Add labels and a title\n",
        "plt.xlabel(\"X-axis Label\")\n",
        "plt.ylabel(\"Y-axis Label\")\n",
        "plt.title(\"Line Plot with Multiple Lines\")\n",
        "\n",
        "# Add a legend to identify each line\n",
        "plt.legend()\n",
        "\n",
        "# Add a grid for better readability (optional)\n",
        "plt.grid(True)\n",
        "\n",
        "# Display the plot\n",
        "plt.show()"
      ],
      "metadata": {
        "colab": {
          "base_uri": "https://localhost:8080/",
          "height": 106
        },
        "id": "CnkUJ8V2wBZ2",
        "outputId": "9e24e37d-a2fc-4ed6-8a38-f92e10370ac5"
      },
      "execution_count": 10,
      "outputs": [
        {
          "output_type": "error",
          "ename": "SyntaxError",
          "evalue": "invalid syntax (<ipython-input-10-79696c38d62f>, line 3)",
          "traceback": [
            "\u001b[0;36m  File \u001b[0;32m\"<ipython-input-10-79696c38d62f>\"\u001b[0;36m, line \u001b[0;32m3\u001b[0m\n\u001b[0;31m    - import matplotlib.pyplot as plt\u001b[0m\n\u001b[0m      ^\u001b[0m\n\u001b[0;31mSyntaxError\u001b[0m\u001b[0;31m:\u001b[0m invalid syntax\n"
          ]
        }
      ]
    },
    {
      "cell_type": "code",
      "source": [
        "# Generate a pandas dataframe and filter rows where a column and value is greater than a threshold.\n",
        "import pandas as pd\n",
        "\n",
        "# 1. Generate a sample DataFrame\n",
        "data = {'ID': [101, 102, 103, 104, 105, 106],\n",
        "        'Value': [55, 85, 40, 95, 70, 60],\n",
        "        'Category': ['A', 'B', 'A', 'C', 'B', 'A']}\n",
        "df = pd.DataFrame(data)\n",
        "\n",
        "print(\"Original DataFrame:\")\n",
        "print(df)\n",
        "\n",
        "# 2. Specify the column to filter and the threshold\n",
        "column_to_filter = 'Value'\n",
        "threshold = 75\n",
        "\n",
        "# 3. Create a boolean Series based on the condition\n",
        "# This will be True for rows where 'Value' is greater than 75, and False otherwise\n",
        "condition = df[column_to_filter] > threshold\n",
        "\n",
        "# 4. Filter the DataFrame using the boolean Series\n",
        "filtered_df = df[condition]\n",
        "\n",
        "print(f\"\\nDataFrame filtered where '{column_to_filter}' > {threshold}:\")\n",
        "print(filtered_df)"
      ],
      "metadata": {
        "colab": {
          "base_uri": "https://localhost:8080/"
        },
        "id": "tYcvQjTPyfhl",
        "outputId": "a9cff214-e31d-422d-e2b3-24a78b2a89e9"
      },
      "execution_count": 11,
      "outputs": [
        {
          "output_type": "stream",
          "name": "stdout",
          "text": [
            "Original DataFrame:\n",
            "    ID  Value Category\n",
            "0  101     55        A\n",
            "1  102     85        B\n",
            "2  103     40        A\n",
            "3  104     95        C\n",
            "4  105     70        B\n",
            "5  106     60        A\n",
            "\n",
            "DataFrame filtered where 'Value' > 75:\n",
            "    ID  Value Category\n",
            "1  102     85        B\n",
            "3  104     95        C\n"
          ]
        }
      ]
    },
    {
      "cell_type": "code",
      "source": [
        "# Create a histogram using seaborn to visualize a distribution.\n",
        "import seaborn as sns\n",
        "import matplotlib.pyplot as plt\n",
        "import pandas as pd\n",
        "import numpy as np\n",
        "\n",
        "# Create a sample Series with numerical data\n",
        "# Using a normal distribution for demonstration\n",
        "data = np.random.normal(loc=50, scale=15, size=200)\n",
        "series = pd.Series(data, name=\"Sample Data\")\n",
        "\n",
        "print(\"Sample Data (first 10 elements):\")\n",
        "print(series.head(10))\n",
        "\n",
        "# Create a histogram using seaborn\n",
        "# 'data' refers to the Series or DataFrame\n",
        "# 'x' or 'y' specifies the column for the histogram (for Series, you can just pass the Series)\n",
        "sns.histplot(data=series) # For a Series, you can pass the Series directly\n",
        "\n",
        "# Add labels and a title\n",
        "plt.xlabel(series.name)\n",
        "plt.ylabel(\"Frequency\")\n",
        "plt.title(\"Histogram of Sample Data\")\n",
        "\n",
        "# Display the plot\n",
        "plt.show()\n"
      ],
      "metadata": {
        "colab": {
          "base_uri": "https://localhost:8080/",
          "height": 680
        },
        "id": "3CaLJtvDyO_I",
        "outputId": "99fde3e7-dab9-4561-c540-ba543d7ce389"
      },
      "execution_count": 12,
      "outputs": [
        {
          "output_type": "stream",
          "name": "stdout",
          "text": [
            "Sample Data (first 10 elements):\n",
            "0    53.981810\n",
            "1    25.484401\n",
            "2    54.895337\n",
            "3    52.484812\n",
            "4    26.405674\n",
            "5    47.323446\n",
            "6    53.808562\n",
            "7    47.314209\n",
            "8    25.896620\n",
            "9    30.741974\n",
            "Name: Sample Data, dtype: float64\n"
          ]
        },
        {
          "output_type": "display_data",
          "data": {
            "text/plain": [
              "<Figure size 640x480 with 1 Axes>"
            ],
            "image/png": "[encoded data removed]"
          },
          "metadata": {}
        }
      ]
    },
    {
      "cell_type": "code",
      "source": [
        "# Perform matrix multiplication using numpy?\n",
        "import numpy as np\n",
        "\n",
        "# Create two NumPy arrays (matrices)\n",
        "matrix1 = np.array([[1, 2],\n",
        "                    [3, 4]])\n",
        "\n",
        "matrix2 = np.array([[5, 6],\n",
        "                    [7, 8]])\n",
        "\n",
        "print(\"Matrix 1:\")\n",
        "print(matrix1)\n",
        "\n",
        "print(\"\\nMatrix 2:\")\n",
        "print(matrix2)\n",
        "\n",
        "# Perform matrix multiplication using the @ operator (recommended)\n",
        "result_matrix_at = matrix1 @ matrix2\n",
        "print(\"\\nResult of matrix multiplication (using @):\")\n",
        "print(result_matrix_at)\n",
        "\n",
        "# Perform matrix multiplication using np.matmul()\n",
        "result_matrix_matmul = np.matmul(matrix1, matrix2)\n",
        "print(\"\\nResult of matrix multiplication (using np.matmul()):\")\n",
        "print(result_matrix_matmul)\n",
        "\n",
        "# Perform matrix multiplication using np.dot() (works for 2D matrices)\n",
        "result_matrix_dot = np.dot(matrix1, matrix2)\n",
        "print(\"\\nResult of matrix multiplication (using np.dot() for 2D):\")\n",
        "print(result_matrix_dot)"
      ],
      "metadata": {
        "colab": {
          "base_uri": "https://localhost:8080/"
        },
        "id": "8Sjn-FyWzhVI",
        "outputId": "fe47243d-80aa-463b-b43e-96d12d910cf1"
      },
      "execution_count": 13,
      "outputs": [
        {
          "output_type": "stream",
          "name": "stdout",
          "text": [
            "Matrix 1:\n",
            "[[1 2]\n",
            " [3 4]]\n",
            "\n",
            "Matrix 2:\n",
            "[[5 6]\n",
            " [7 8]]\n",
            "\n",
            "Result of matrix multiplication (using @):\n",
            "[[19 22]\n",
            " [43 50]]\n",
            "\n",
            "Result of matrix multiplication (using np.matmul()):\n",
            "[[19 22]\n",
            " [43 50]]\n",
            "\n",
            "Result of matrix multiplication (using np.dot() for 2D):\n",
            "[[19 22]\n",
            " [43 50]]\n"
          ]
        }
      ]
    },
    {
      "cell_type": "code",
      "source": [
        "# Use pandas to load a CSV file and display its first 5 rows?\n",
        "import pandas as pd\n",
        "\n",
        "# Specify the path to your CSV file\n",
        "csv_file_path = 'your_file.csv' # Replace with the actual path to your file\n",
        "\n",
        "# Load the CSV file into a pandas DataFrame\n",
        "try:\n",
        "    df = pd.read_csv(csv_file_path)\n",
        "\n",
        "    # Display the first 5 rows of the DataFrame\n",
        "    print(\"First 5 rows of the DataFrame:\")\n",
        "    print(df.head())\n",
        "\n",
        "except FileNotFoundError:\n",
        "    print(f\"Error: The file '{csv_file_path}' was not found.\")\n",
        "except Exception as e:\n",
        "    print(f\"An error occurred: {e}\")"
      ],
      "metadata": {
        "colab": {
          "base_uri": "https://localhost:8080/"
        },
        "id": "8aB3AVK21j7x",
        "outputId": "7b99a103-ae08-4479-8fe5-8420b7644f02"
      },
      "execution_count": 14,
      "outputs": [
        {
          "output_type": "stream",
          "name": "stdout",
          "text": [
            "Error: The file 'your_file.csv' was not found.\n"
          ]
        }
      ]
    },
    {
      "cell_type": "code",
      "source": [
        "# Create a 3D scatter plot using plotly?\n",
        "import plotly.express as px\n",
        "import pandas as pd\n",
        "import numpy as np # For creating sample data\n",
        "\n",
        "# Create a sample DataFrame for the 3D scatter plot\n",
        "np.random.seed(42) # for reproducibility\n",
        "num_points = 100\n",
        "\n",
        "data = {\n",
        "    'x': np.random.rand(num_points),\n",
        "    'y': np.random.rand(num_points),\n",
        "    'z': np.random.rand(num_points),\n",
        "    'color_value': np.random.rand(num_points) # Optional: for coloring points\n",
        "}\n",
        "df = pd.DataFrame(data)\n",
        "\n",
        "print(\"Sample DataFrame (first 5 rows):\")\n",
        "print(df.head())\n",
        "\n",
        "# Create a 3D scatter plot using Plotly Express\n",
        "# Specify the columns for x, y, and z\n",
        "fig = px.scatter_3d(df,\n",
        "                    x='x',\n",
        "                    y='y',\n",
        "                    z='z',\n",
        "                    color='color_value', # Optional: color points based on 'color_value'\n",
        "                    title='Simple 3D Scatter Plot with Plotly')\n",
        "\n",
        "# Display the plot\n",
        "fig.show()"
      ],
      "metadata": {
        "colab": {
          "base_uri": "https://localhost:8080/",
          "height": 663
        },
        "id": "umzL2q6t14ck",
        "outputId": "5db0d938-e6ad-4a2c-8c77-b45a6b8d1953"
      },
      "execution_count": 15,
      "outputs": [
        {
          "output_type": "stream",
          "name": "stdout",
          "text": [
            "Sample DataFrame (first 5 rows):\n",
            "          x         y         z  color_value\n",
            "0  0.374540  0.031429  0.642032     0.051682\n",
            "1  0.950714  0.636410  0.084140     0.531355\n",
            "2  0.731994  0.314356  0.161629     0.540635\n",
            "3  0.598658  0.508571  0.898554     0.637430\n",
            "4  0.156019  0.907566  0.606429     0.726091\n"
          ]
        },
        {
          "output_type": "display_data",
          "data": {
            "text/html": [
              "<html>\n",
              "<head><meta charset=\"utf-8\" /></head>\n",
              "<body>\n",
              "    <div>            <script src=\"https://cdnjs.cloudflare.com/ajax/libs/mathjax/2.7.5/MathJax.js?config=TeX-AMS-MML_SVG\"></script><script type=\"text/javascript\">if (window.MathJax && window.MathJax.Hub && window.MathJax.Hub.Config) {window.MathJax.Hub.Config({SVG: {font: \"STIX-Web\"}});}</script>                <script type=\"text/javascript\">window.PlotlyConfig = {MathJaxConfig: 'local'};</script>\n",
              "        <script charset=\"utf-8\" src=\"https://cdn.plot.ly/plotly-2.35.2.min.js\"></script>                <div id=\"3f0968c0-8b8e-40f1-a5d1-93ba57388d9f\" class=\"plotly-graph-div\" style=\"height:525px; width:100%;\"></div>            <script type=\"text/javascript\">                                    window.PLOTLYENV=window.PLOTLYENV || {};                                    if (document.getElementById(\"3f0968c0-8b8e-40f1-a5d1-93ba57388d9f\")) {                    Plotly.newPlot(                        \"3f0968c0-8b8e-40f1-a5d1-93ba57388d9f\",                        [{\"hovertemplate\":\"x=%{x}\\u003cbr\\u003ey=%{y}\\u003cbr\\u003ez=%{z}\\u003cbr\\u003ecolor_value=%{marker.color}\\u003cextra\\u003e\\u003c\\u002fextra\\u003e\",\"legendgroup\":\"\",\"marker\":{\"color\":[0.0516817211686077,0.531354631568148,0.5406351216101065,0.6374299014982066,0.7260913337226615,0.9758520794625346,0.5163003483011953,0.32295647294124596,0.7951861947687037,0.2708322512620742,0.4389714207056361,0.07845638134226596,0.02535074341545751,0.9626484146779251,0.8359801205122058,0.695974206093698,0.4089529444142699,0.17329432007084578,0.15643704267108605,0.25024289816459533,0.5492266647061205,0.7145959227000623,0.6601973767177313,0.27993389694594284,0.9548652806631941,0.7378969166957685,0.5543540525114007,0.6117207462343522,0.4196000624277899,0.24773098950115746,0.3559726786512616,0.7578461104643691,0.014393488629755868,0.11607264050691624,0.04600264202175275,0.040728802318970136,0.8554605840110072,0.7036578593800237,0.4741738290873252,0.09783416065100148,0.49161587511683236,0.4734717707805657,0.17320186991001518,0.43385164923797304,0.39850473439737344,0.6158500980522165,0.6350936508676438,0.04530400977204452,0.3746126146264712,0.6258599157142364,0.5031362585800877,0.8564898411883223,0.658693631618945,0.1629344270814297,0.07056874740042984,0.6424192782063156,0.026511310541621813,0.5857755812734633,0.9402302414249576,0.575474177875879,0.3881699262065219,0.6432882184423532,0.45825289049151663,0.5456167893159349,0.9414648087765252,0.38610263780077425,0.9611905638239142,0.9053506419560637,0.19579113478929644,0.06936130087516545,0.10077800137742665,0.018221825651549728,0.0944429607559284,0.6830067734163568,0.07118864846022899,0.3189756302937613,0.8448753109694546,0.023271935735825866,0.8144684825889358,0.28185477477339993,0.11816482762165625,0.6967371653641506,0.628942846779884,0.877472013527053,0.7350710438038858,0.8034809303848486,0.2820345725713065,0.17743954377972282,0.7506147516408583,0.806834739267264,0.9905051420006733,0.4126176769114265,0.37201808579278317,0.7764129607419968,0.34080354025301784,0.9307573256035647,0.8584127518430118,0.42899402737501835,0.7508710677914974,0.7545428740846823],\"coloraxis\":\"coloraxis\",\"symbol\":\"circle\"},\"mode\":\"markers\",\"name\":\"\",\"scene\":\"scene\",\"showlegend\":false,\"x\":[0.3745401188473625,0.9507143064099162,0.7319939418114051,0.5986584841970366,0.15601864044243652,0.15599452033620265,0.05808361216819946,0.8661761457749352,0.6011150117432088,0.7080725777960455,0.020584494295802447,0.9699098521619943,0.8324426408004217,0.21233911067827616,0.18182496720710062,0.18340450985343382,0.3042422429595377,0.5247564316322378,0.43194501864211576,0.2912291401980419,0.6118528947223795,0.13949386065204183,0.29214464853521815,0.3663618432936917,0.45606998421703593,0.7851759613930136,0.19967378215835974,0.5142344384136116,0.5924145688620425,0.046450412719997725,0.6075448519014384,0.17052412368729153,0.06505159298527952,0.9488855372533332,0.9656320330745594,0.8083973481164611,0.3046137691733707,0.09767211400638387,0.6842330265121569,0.4401524937396013,0.12203823484477883,0.4951769101112702,0.034388521115218396,0.9093204020787821,0.2587799816000169,0.662522284353982,0.31171107608941095,0.5200680211778108,0.5467102793432796,0.18485445552552704,0.9695846277645586,0.7751328233611146,0.9394989415641891,0.8948273504276488,0.5978999788110851,0.9218742350231168,0.0884925020519195,0.1959828624191452,0.045227288910538066,0.32533033076326434,0.388677289689482,0.2713490317738959,0.8287375091519293,0.3567533266935893,0.28093450968738076,0.5426960831582485,0.14092422497476265,0.8021969807540397,0.07455064367977082,0.9868869366005173,0.7722447692966574,0.1987156815341724,0.005522117123602399,0.8154614284548342,0.7068573438476171,0.7290071680409873,0.7712703466859457,0.07404465173409036,0.3584657285442726,0.11586905952512971,0.8631034258755935,0.6232981268275579,0.3308980248526492,0.06355835028602363,0.3109823217156622,0.32518332202674705,0.7296061783380641,0.6375574713552131,0.8872127425763265,0.4722149251619493,0.1195942459383017,0.713244787222995,0.7607850486168974,0.5612771975694962,0.770967179954561,0.49379559636439074,0.5227328293819941,0.42754101835854963,0.02541912674409519,0.10789142699330445],\"y\":[0.03142918568673425,0.6364104112637804,0.3143559810763267,0.5085706911647028,0.907566473926093,0.24929222914887494,0.41038292303562973,0.7555511385430487,0.22879816549162246,0.07697990982879299,0.289751452913768,0.16122128725400442,0.9296976523425731,0.808120379564417,0.6334037565104235,0.8714605901877177,0.8036720768991145,0.18657005888603584,0.8925589984899778,0.5393422419156507,0.8074401551640625,0.8960912999234932,0.3180034749718639,0.11005192452767676,0.22793516254194168,0.4271077886262563,0.8180147659224931,0.8607305832563434,0.006952130531190703,0.5107473025775657,0.417411003148779,0.22210781047073025,0.1198653673336828,0.33761517140362796,0.9429097039125192,0.32320293202075523,0.5187906217433661,0.7030189588951778,0.363629602379294,0.9717820827209607,0.9624472949421112,0.25178229582536416,0.49724850589238545,0.30087830981676966,0.2848404943774676,0.036886947354532795,0.6095643339798968,0.5026790232288615,0.05147875124998935,0.27864646423661144,0.9082658859666537,0.23956189066697242,0.1448948720912231,0.489452760277563,0.9856504541106007,0.2420552715115004,0.6721355474058786,0.7616196153287176,0.23763754399239967,0.7282163486118596,0.3677831327192532,0.6323058305935795,0.6335297107608947,0.5357746840747585,0.0902897700544083,0.835302495589238,0.32078006497173583,0.18651851039985423,0.040775141554763916,0.5908929431882418,0.6775643618422824,0.016587828927856152,0.512093058299281,0.22649577519793795,0.6451727904094499,0.17436642900499144,0.690937738102466,0.3867353463005374,0.9367299887367345,0.13752094414599325,0.3410663510502585,0.11347352124058907,0.9246936182785628,0.877339353380981,0.2579416277151556,0.659984046034179,0.8172222002012158,0.5552008115994623,0.5296505783560065,0.24185229090045168,0.09310276780589921,0.8972157579533268,0.9004180571633305,0.6331014572732679,0.3390297910487007,0.3492095746126609,0.7259556788702394,0.8971102599525771,0.8870864242651173,0.7798755458576239],\"z\":[0.6420316461542878,0.08413996499504883,0.16162871409461377,0.8985541885270792,0.6064290596595899,0.009197051616629648,0.1014715428660321,0.6635017691080558,0.005061583846218687,0.16080805141749865,0.5487337893665861,0.6918951976926933,0.6519612595026005,0.22426930946055978,0.7121792213475359,0.23724908749680007,0.3253996981592677,0.7464914051180241,0.6496328990472147,0.8492234104941779,0.6576128923003434,0.5683086033354716,0.09367476782809248,0.3677158030594335,0.26520236768172545,0.24398964337908358,0.9730105547524456,0.3930977246667604,0.8920465551771133,0.6311386259972629,0.7948113035416484,0.5026370931051921,0.5769038846263591,0.4925176938188639,0.1952429877980445,0.7224521152615053,0.2807723624408558,0.02431596643145384,0.6454722959071678,0.17711067940704894,0.9404585843529143,0.9539285770025874,0.9148643902204485,0.3701587002554444,0.015456616528867428,0.9283185625877254,0.42818414831731433,0.9666548190436696,0.9636199770892528,0.8530094554673601,0.2944488920695857,0.38509772860192526,0.8511366715168569,0.31692200515627766,0.1694927466860925,0.5568012624583502,0.936154774160781,0.696029796674973,0.570061170089365,0.09717649377076854,0.6150072266991697,0.9900538501042633,0.14008401523652403,0.5183296523637367,0.8773730719279554,0.7407686177542044,0.697015740995268,0.7024840839871093,0.35949115121975517,0.29359184426449336,0.8093611554785136,0.8101133946791808,0.8670723185801037,0.9132405525564713,0.5113423988609378,0.5015162946871996,0.7982951789667752,0.6499639307777652,0.7019668772577033,0.795792669436101,0.8900053418175663,0.3379951568515358,0.375582952639944,0.093981939840869,0.578280140996174,0.035942273796742086,0.46559801813246016,0.5426446347075766,0.2865412521282844,0.5908332605690108,0.03050024993904943,0.03734818874921442,0.8226005606596583,0.3601906414112629,0.12706051265188478,0.5222432600548044,0.7699935530986108,0.21582102749684318,0.6228904758190003,0.085347464993768],\"type\":\"scatter3d\"}],                        {\"template\":{\"data\":{\"histogram2dcontour\":[{\"type\":\"histogram2dcontour\",\"colorbar\":{\"outlinewidth\":0,\"ticks\":\"\"},\"colorscale\":[[0.0,\"#0d0887\"],[0.1111111111111111,\"#46039f\"],[0.2222222222222222,\"#7201a8\"],[0.3333333333333333,\"#9c179e\"],[0.4444444444444444,\"#bd3786\"],[0.5555555555555556,\"#d8576b\"],[0.6666666666666666,\"#ed7953\"],[0.7777777777777778,\"#fb9f3a\"],[0.8888888888888888,\"#fdca26\"],[1.0,\"#f0f921\"]]}],\"choropleth\":[{\"type\":\"choropleth\",\"colorbar\":{\"outlinewidth\":0,\"ticks\":\"\"}}],\"histogram2d\":[{\"type\":\"histogram2d\",\"colorbar\":{\"outlinewidth\":0,\"ticks\":\"\"},\"colorscale\":[[0.0,\"#0d0887\"],[0.1111111111111111,\"#46039f\"],[0.2222222222222222,\"#7201a8\"],[0.3333333333333333,\"#9c179e\"],[0.4444444444444444,\"#bd3786\"],[0.5555555555555556,\"#d8576b\"],[0.6666666666666666,\"#ed7953\"],[0.7777777777777778,\"#fb9f3a\"],[0.8888888888888888,\"#fdca26\"],[1.0,\"#f0f921\"]]}],\"heatmap\":[{\"type\":\"heatmap\",\"colorbar\":{\"outlinewidth\":0,\"ticks\":\"\"},\"colorscale\":[[0.0,\"#0d0887\"],[0.1111111111111111,\"#46039f\"],[0.2222222222222222,\"#7201a8\"],[0.3333333333333333,\"#9c179e\"],[0.4444444444444444,\"#bd3786\"],[0.5555555555555556,\"#d8576b\"],[0.6666666666666666,\"#ed7953\"],[0.7777777777777778,\"#fb9f3a\"],[0.8888888888888888,\"#fdca26\"],[1.0,\"#f0f921\"]]}],\"heatmapgl\":[{\"type\":\"heatmapgl\",\"colorbar\":{\"outlinewidth\":0,\"ticks\":\"\"},\"colorscale\":[[0.0,\"#0d0887\"],[0.1111111111111111,\"#46039f\"],[0.2222222222222222,\"#7201a8\"],[0.3333333333333333,\"#9c179e\"],[0.4444444444444444,\"#bd3786\"],[0.5555555555555556,\"#d8576b\"],[0.6666666666666666,\"#ed7953\"],[0.7777777777777778,\"#fb9f3a\"],[0.8888888888888888,\"#fdca26\"],[1.0,\"#f0f921\"]]}],\"contourcarpet\":[{\"type\":\"contourcarpet\",\"colorbar\":{\"outlinewidth\":0,\"ticks\":\"\"}}],\"contour\":[{\"type\":\"contour\",\"colorbar\":{\"outlinewidth\":0,\"ticks\":\"\"},\"colorscale\":[[0.0,\"#0d0887\"],[0.1111111111111111,\"#46039f\"],[0.2222222222222222,\"#7201a8\"],[0.3333333333333333,\"#9c179e\"],[0.4444444444444444,\"#bd3786\"],[0.5555555555555556,\"#d8576b\"],[0.6666666666666666,\"#ed7953\"],[0.7777777777777778,\"#fb9f3a\"],[0.8888888888888888,\"#fdca26\"],[1.0,\"#f0f921\"]]}],\"surface\":[{\"type\":\"surface\",\"colorbar\":{\"outlinewidth\":0,\"ticks\":\"\"},\"colorscale\":[[0.0,\"#0d0887\"],[0.1111111111111111,\"#46039f\"],[0.2222222222222222,\"#7201a8\"],[0.3333333333333333,\"#9c179e\"],[0.4444444444444444,\"#bd3786\"],[0.5555555555555556,\"#d8576b\"],[0.6666666666666666,\"#ed7953\"],[0.7777777777777778,\"#fb9f3a\"],[0.8888888888888888,\"#fdca26\"],[1.0,\"#f0f921\"]]}],\"mesh3d\":[{\"type\":\"mesh3d\",\"colorbar\":{\"outlinewidth\":0,\"ticks\":\"\"}}],\"scatter\":[{\"fillpattern\":{\"fillmode\":\"overlay\",\"size\":10,\"solidity\":0.2},\"type\":\"scatter\"}],\"parcoords\":[{\"type\":\"parcoords\",\"line\":{\"colorbar\":{\"outlinewidth\":0,\"ticks\":\"\"}}}],\"scatterpolargl\":[{\"type\":\"scatterpolargl\",\"marker\":{\"colorbar\":{\"outlinewidth\":0,\"ticks\":\"\"}}}],\"bar\":[{\"error_x\":{\"color\":\"#2a3f5f\"},\"error_y\":{\"color\":\"#2a3f5f\"},\"marker\":{\"line\":{\"color\":\"#E5ECF6\",\"width\":0.5},\"pattern\":{\"fillmode\":\"overlay\",\"size\":10,\"solidity\":0.2}},\"type\":\"bar\"}],\"scattergeo\":[{\"type\":\"scattergeo\",\"marker\":{\"colorbar\":{\"outlinewidth\":0,\"ticks\":\"\"}}}],\"scatterpolar\":[{\"type\":\"scatterpolar\",\"marker\":{\"colorbar\":{\"outlinewidth\":0,\"ticks\":\"\"}}}],\"histogram\":[{\"marker\":{\"pattern\":{\"fillmode\":\"overlay\",\"size\":10,\"solidity\":0.2}},\"type\":\"histogram\"}],\"scattergl\":[{\"type\":\"scattergl\",\"marker\":{\"colorbar\":{\"outlinewidth\":0,\"ticks\":\"\"}}}],\"scatter3d\":[{\"type\":\"scatter3d\",\"line\":{\"colorbar\":{\"outlinewidth\":0,\"ticks\":\"\"}},\"marker\":{\"colorbar\":{\"outlinewidth\":0,\"ticks\":\"\"}}}],\"scattermapbox\":[{\"type\":\"scattermapbox\",\"marker\":{\"colorbar\":{\"outlinewidth\":0,\"ticks\":\"\"}}}],\"scatterternary\":[{\"type\":\"scatterternary\",\"marker\":{\"colorbar\":{\"outlinewidth\":0,\"ticks\":\"\"}}}],\"scattercarpet\":[{\"type\":\"scattercarpet\",\"marker\":{\"colorbar\":{\"outlinewidth\":0,\"ticks\":\"\"}}}],\"carpet\":[{\"aaxis\":{\"endlinecolor\":\"#2a3f5f\",\"gridcolor\":\"white\",\"linecolor\":\"white\",\"minorgridcolor\":\"white\",\"startlinecolor\":\"#2a3f5f\"},\"baxis\":{\"endlinecolor\":\"#2a3f5f\",\"gridcolor\":\"white\",\"linecolor\":\"white\",\"minorgridcolor\":\"white\",\"startlinecolor\":\"#2a3f5f\"},\"type\":\"carpet\"}],\"table\":[{\"cells\":{\"fill\":{\"color\":\"#EBF0F8\"},\"line\":{\"color\":\"white\"}},\"header\":{\"fill\":{\"color\":\"#C8D4E3\"},\"line\":{\"color\":\"white\"}},\"type\":\"table\"}],\"barpolar\":[{\"marker\":{\"line\":{\"color\":\"#E5ECF6\",\"width\":0.5},\"pattern\":{\"fillmode\":\"overlay\",\"size\":10,\"solidity\":0.2}},\"type\":\"barpolar\"}],\"pie\":[{\"automargin\":true,\"type\":\"pie\"}]},\"layout\":{\"autotypenumbers\":\"strict\",\"colorway\":[\"#636efa\",\"#EF553B\",\"#00cc96\",\"#ab63fa\",\"#FFA15A\",\"#19d3f3\",\"#FF6692\",\"#B6E880\",\"#FF97FF\",\"#FECB52\"],\"font\":{\"color\":\"#2a3f5f\"},\"hovermode\":\"closest\",\"hoverlabel\":{\"align\":\"left\"},\"paper_bgcolor\":\"white\",\"plot_bgcolor\":\"#E5ECF6\",\"polar\":{\"bgcolor\":\"#E5ECF6\",\"angularaxis\":{\"gridcolor\":\"white\",\"linecolor\":\"white\",\"ticks\":\"\"},\"radialaxis\":{\"gridcolor\":\"white\",\"linecolor\":\"white\",\"ticks\":\"\"}},\"ternary\":{\"bgcolor\":\"#E5ECF6\",\"aaxis\":{\"gridcolor\":\"white\",\"linecolor\":\"white\",\"ticks\":\"\"},\"baxis\":{\"gridcolor\":\"white\",\"linecolor\":\"white\",\"ticks\":\"\"},\"caxis\":{\"gridcolor\":\"white\",\"linecolor\":\"white\",\"ticks\":\"\"}},\"coloraxis\":{\"colorbar\":{\"outlinewidth\":0,\"ticks\":\"\"}},\"colorscale\":{\"sequential\":[[0.0,\"#0d0887\"],[0.1111111111111111,\"#46039f\"],[0.2222222222222222,\"#7201a8\"],[0.3333333333333333,\"#9c179e\"],[0.4444444444444444,\"#bd3786\"],[0.5555555555555556,\"#d8576b\"],[0.6666666666666666,\"#ed7953\"],[0.7777777777777778,\"#fb9f3a\"],[0.8888888888888888,\"#fdca26\"],[1.0,\"#f0f921\"]],\"sequentialminus\":[[0.0,\"#0d0887\"],[0.1111111111111111,\"#46039f\"],[0.2222222222222222,\"#7201a8\"],[0.3333333333333333,\"#9c179e\"],[0.4444444444444444,\"#bd3786\"],[0.5555555555555556,\"#d8576b\"],[0.6666666666666666,\"#ed7953\"],[0.7777777777777778,\"#fb9f3a\"],[0.8888888888888888,\"#fdca26\"],[1.0,\"#f0f921\"]],\"diverging\":[[0,\"#8e0152\"],[0.1,\"#c51b7d\"],[0.2,\"#de77ae\"],[0.3,\"#f1b6da\"],[0.4,\"#fde0ef\"],[0.5,\"#f7f7f7\"],[0.6,\"#e6f5d0\"],[0.7,\"#b8e186\"],[0.8,\"#7fbc41\"],[0.9,\"#4d9221\"],[1,\"#276419\"]]},\"xaxis\":{\"gridcolor\":\"white\",\"linecolor\":\"white\",\"ticks\":\"\",\"title\":{\"standoff\":15},\"zerolinecolor\":\"white\",\"automargin\":true,\"zerolinewidth\":2},\"yaxis\":{\"gridcolor\":\"white\",\"linecolor\":\"white\",\"ticks\":\"\",\"title\":{\"standoff\":15},\"zerolinecolor\":\"white\",\"automargin\":true,\"zerolinewidth\":2},\"scene\":{\"xaxis\":{\"backgroundcolor\":\"#E5ECF6\",\"gridcolor\":\"white\",\"linecolor\":\"white\",\"showbackground\":true,\"ticks\":\"\",\"zerolinecolor\":\"white\",\"gridwidth\":2},\"yaxis\":{\"backgroundcolor\":\"#E5ECF6\",\"gridcolor\":\"white\",\"linecolor\":\"white\",\"showbackground\":true,\"ticks\":\"\",\"zerolinecolor\":\"white\",\"gridwidth\":2},\"zaxis\":{\"backgroundcolor\":\"#E5ECF6\",\"gridcolor\":\"white\",\"linecolor\":\"white\",\"showbackground\":true,\"ticks\":\"\",\"zerolinecolor\":\"white\",\"gridwidth\":2}},\"shapedefaults\":{\"line\":{\"color\":\"#2a3f5f\"}},\"annotationdefaults\":{\"arrowcolor\":\"#2a3f5f\",\"arrowhead\":0,\"arrowwidth\":1},\"geo\":{\"bgcolor\":\"white\",\"landcolor\":\"#E5ECF6\",\"subunitcolor\":\"white\",\"showland\":true,\"showlakes\":true,\"lakecolor\":\"white\"},\"title\":{\"x\":0.05},\"mapbox\":{\"style\":\"light\"}}},\"scene\":{\"domain\":{\"x\":[0.0,1.0],\"y\":[0.0,1.0]},\"xaxis\":{\"title\":{\"text\":\"x\"}},\"yaxis\":{\"title\":{\"text\":\"y\"}},\"zaxis\":{\"title\":{\"text\":\"z\"}}},\"coloraxis\":{\"colorbar\":{\"title\":{\"text\":\"color_value\"}},\"colorscale\":[[0.0,\"#0d0887\"],[0.1111111111111111,\"#46039f\"],[0.2222222222222222,\"#7201a8\"],[0.3333333333333333,\"#9c179e\"],[0.4444444444444444,\"#bd3786\"],[0.5555555555555556,\"#d8576b\"],[0.6666666666666666,\"#ed7953\"],[0.7777777777777778,\"#fb9f3a\"],[0.8888888888888888,\"#fdca26\"],[1.0,\"#f0f921\"]]},\"legend\":{\"tracegroupgap\":0},\"title\":{\"text\":\"Simple 3D Scatter Plot with Plotly\"}},                        {\"responsive\": true}                    ).then(function(){\n",
              "                            \n",
              "var gd = document.getElementById('3f0968c0-8b8e-40f1-a5d1-93ba57388d9f');\n",
              "var x = new MutationObserver(function (mutations, observer) {{\n",
              "        var display = window.getComputedStyle(gd).display;\n",
              "        if (!display || display === 'none') {{\n",
              "            console.log([gd, 'removed!']);\n",
              "            Plotly.purge(gd);\n",
              "            observer.disconnect();\n",
              "        }}\n",
              "}});\n",
              "\n",
              "// Listen for the removal of the full notebook cells\n",
              "var notebookContainer = gd.closest('#notebook-container');\n",
              "if (notebookContainer) {{\n",
              "    x.observe(notebookContainer, {childList: true});\n",
              "}}\n",
              "\n",
              "// Listen for the clearing of the current output cell\n",
              "var outputEl = gd.closest('.output');\n",
              "if (outputEl) {{\n",
              "    x.observe(outputEl, {childList: true});\n",
              "}}\n",
              "\n",
              "                        })                };                            </script>        </div>\n",
              "</body>\n",
              "</html>"
            ]
          },
          "metadata": {}
        }
      ]
    },
    {
      "cell_type": "code",
      "source": [],
      "metadata": {
        "id": "6HWGcx202JOG"
      },
      "execution_count": null,
      "outputs": []
    }
  ]
}